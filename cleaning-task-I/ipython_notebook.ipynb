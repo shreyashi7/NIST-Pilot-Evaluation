{
 "cells": [
  {
   "cell_type": "code",
   "execution_count": 2,
   "metadata": {
    "collapsed": true
   },
   "outputs": [],
   "source": [
    "import pandas as pd\n",
    "import numpy as np\n",
    "import pandas as pd\n",
    "from scipy.stats.kde import gaussian_kde\n",
    "from scipy.stats import norm\n",
    "from sklearn.neighbors import NearestNeighbors\n",
    "import numpy as np"
   ]
  },
  {
   "cell_type": "code",
   "execution_count": null,
   "metadata": {
    "collapsed": false
   },
   "outputs": [],
   "source": [
    "df_flow = pd.read_csv(\"/home/swati/Downloads/cleaning1/3532/flow.tsv\" ,delimiter= \"\\t\",header = None)\n",
    "df_speed = pd.read_csv(\"/home/swati/Downloads/cleaning1/3532/speed.tsv\",delimiter= \"\\t\",header = None)\n",
    "df_occupancy = pd.read_csv(\"/home/swati/Downloads/cleaning1/3532/occupancy.tsv\",delimiter= \"\\t\",header = None)\n"
   ]
  },
  {
   "cell_type": "code",
   "execution_count": null,
   "metadata": {
    "collapsed": false
   },
   "outputs": [],
   "source": [
    "print(df_flow.isnull().values.any())\n",
    "print(df_speed.isnull().values.any())\n",
    "print(df_occupancy.isnull().values.any())"
   ]
  },
  {
   "cell_type": "code",
   "execution_count": null,
   "metadata": {
    "collapsed": true
   },
   "outputs": [],
   "source": [
    "c_bind_lane1 = pd.concat([df_flow.ix[:,0] ,df_speed.ix[:,0] ,df_occupancy.ix[:,0]],axis =1)\n",
    "c_bind_lane2 = pd.concat([df_flow.ix[:,1] ,df_speed.ix[:,1] ,df_occupancy.ix[:,1]],axis =1)\n",
    "c_bind_lane3 = pd.concat([df_flow.ix[:,2] ,df_speed.ix[:,2] ,df_occupancy.ix[:,2]],axis =1)\n",
    "c_bind_lane4 = pd.concat([df_flow.ix[:,3] ,df_speed.ix[:,3] ,df_occupancy.ix[:,3]],axis =1)\n",
    "c_bind_lane5 = pd.concat([df_flow.ix[:,4] ,df_speed.ix[:,4] ,df_occupancy.ix[:,4]],axis =1)\n",
    "c_bind_lane6 = pd.concat([df_flow.ix[:,5] ,df_speed.ix[:,5] ,df_occupancy.ix[:,5]],axis =1)\n"
   ]
  },
  {
   "cell_type": "code",
   "execution_count": null,
   "metadata": {
    "collapsed": false
   },
   "outputs": [],
   "source": [
    "df_vector1 = pd.concat([c_bind_lane1 ,c_bind_lane2 ,c_bind_lane3])"
   ]
  },
  {
   "cell_type": "code",
   "execution_count": null,
   "metadata": {
    "collapsed": true
   },
   "outputs": [],
   "source": [
    "df_vector2 = pd.concat([c_bind_lane4, c_bind_lane5, c_bind_lane6])"
   ]
  },
  {
   "cell_type": "code",
   "execution_count": null,
   "metadata": {
    "collapsed": true
   },
   "outputs": [],
   "source": [
    "df_vector = pd.concat([df_vector1, df_vector2])"
   ]
  },
  {
   "cell_type": "code",
   "execution_count": null,
   "metadata": {
    "collapsed": false
   },
   "outputs": [],
   "source": [
    "c_bind_lane1.columns = ['flow','speed','occupancy']\n",
    "c_bind_lane2.columns = ['flow','speed','occupancy']\n",
    "c_bind_lane3.columns = ['flow','speed','occupancy']"
   ]
  },
  {
   "cell_type": "code",
   "execution_count": null,
   "metadata": {
    "collapsed": false
   },
   "outputs": [],
   "source": [
    "c_bind_lane4.columns = ['flow','speed','occupancy']\n",
    "c_bind_lane5.columns = ['flow','speed','occupancy']\n",
    "c_bind_lane6.columns = ['flow','speed','occupancy']"
   ]
  },
  {
   "cell_type": "code",
   "execution_count": null,
   "metadata": {
    "collapsed": false
   },
   "outputs": [],
   "source": [
    "df_vector.head()"
   ]
  },
  {
   "cell_type": "code",
   "execution_count": null,
   "metadata": {
    "collapsed": true
   },
   "outputs": [],
   "source": [
    "df_vector = df_vector.dropna()"
   ]
  },
  {
   "cell_type": "code",
   "execution_count": null,
   "metadata": {
    "collapsed": false
   },
   "outputs": [],
   "source": [
    "print(df_vector.isnull().values.any())"
   ]
  },
  {
   "cell_type": "code",
   "execution_count": null,
   "metadata": {
    "collapsed": false
   },
   "outputs": [],
   "source": [
    "df_vector.to_csv(\"/home/swati/Downloads/mv_3532.csv\")"
   ]
  },
  {
   "cell_type": "code",
   "execution_count": null,
   "metadata": {
    "collapsed": true
   },
   "outputs": [],
   "source": [
    "df = pd.read_csv(\"/home/swati/Downloads/mv_3532.csv\", delimiter = ',')\n"
   ]
  },
  {
   "cell_type": "code",
   "execution_count": null,
   "metadata": {
    "collapsed": true
   },
   "outputs": [],
   "source": [
    "counts = df.groupby(['flow', 'speed','occupancy']).count()"
   ]
  },
  {
   "cell_type": "code",
   "execution_count": null,
   "metadata": {
    "collapsed": true
   },
   "outputs": [],
   "source": [
    "counts.to_csv(\"/home/swati/Downloads/counts_3532.csv\", delimiter = ',')"
   ]
  },
  {
   "cell_type": "code",
   "execution_count": null,
   "metadata": {
    "collapsed": true
   },
   "outputs": [],
   "source": [
    "df = pd.read_csv(\"/home/swati/Downloads/counts_3532.csv\", delimiter = ',')"
   ]
  },
  {
   "cell_type": "code",
   "execution_count": null,
   "metadata": {
    "collapsed": true
   },
   "outputs": [],
   "source": [
    "Total = df['Count'].sum()"
   ]
  },
  {
   "cell_type": "code",
   "execution_count": null,
   "metadata": {
    "collapsed": true
   },
   "outputs": [],
   "source": [
    "df['relative_Frequency'] = df['Count'].apply(lambda x : x/Total)"
   ]
  },
  {
   "cell_type": "code",
   "execution_count": null,
   "metadata": {
    "collapsed": true
   },
   "outputs": [],
   "source": [
    "df_matrix = df.as_matrix(columns=df.columns[0:3])"
   ]
  },
  {
   "cell_type": "code",
   "execution_count": null,
   "metadata": {
    "collapsed": true
   },
   "outputs": [],
   "source": [
    "nbrs = NearestNeighbors(n_neighbors=20, algorithm='ball_tree').fit(df_matrix)"
   ]
  },
  {
   "cell_type": "code",
   "execution_count": null,
   "metadata": {
    "collapsed": true
   },
   "outputs": [],
   "source": [
    "distances, indices = nbrs.kneighbors(df_matrix)"
   ]
  },
  {
   "cell_type": "code",
   "execution_count": null,
   "metadata": {
    "collapsed": true
   },
   "outputs": [],
   "source": [
    "df_matrix_including_rel_freq = df.as_matrix(columns=df.columns[0:5])\n"
   ]
  },
  {
   "cell_type": "code",
   "execution_count": null,
   "metadata": {
    "collapsed": true
   },
   "outputs": [],
   "source": [
    "for row in range(0,len(distances)) :\n",
    "    num_of_neighbors = 20\n",
    "    weighted_freq_sum = 0\n",
    "    for neigh in range(1,num_of_neighbors):\n",
    "        \n",
    "        distance = distances[row][neigh]\n",
    "        index_of_neigh = indices[row][neigh]\n",
    "        relative_freuency_of_neighbor = df_matrix_including_rel_freq[index_of_neigh][4]\n",
    "        weighted_freq_sum = weighted_freq_sum + (relative_freuency_of_neighbor/distance)\n",
    "    \n",
    "   \n",
    "    df.ix[row,'weighted_freq_sum'] = weighted_freq_sum    \n",
    "    df.ix[row,'Total'] =  df.ix[row,'relative_Frequency']+ (weighted_freq_sum /20)"
   ]
  },
  {
   "cell_type": "code",
   "execution_count": null,
   "metadata": {
    "collapsed": true
   },
   "outputs": [],
   "source": [
    "df = df.sort(columns = ['Total'],)"
   ]
  },
  {
   "cell_type": "code",
   "execution_count": null,
   "metadata": {
    "collapsed": true
   },
   "outputs": [],
   "source": [
    "df = df.reset_index(drop=True)"
   ]
  },
  {
   "cell_type": "code",
   "execution_count": null,
   "metadata": {
    "collapsed": true
   },
   "outputs": [],
   "source": [
    "df.ix[0, 'LL'] = 1\n",
    "df.ix[0, 'UL'] = 2"
   ]
  },
  {
   "cell_type": "code",
   "execution_count": null,
   "metadata": {
    "collapsed": true
   },
   "outputs": [],
   "source": [
    "for i in range(1,len(df)):\n",
    "        df.ix[i, 'LL'] = df.ix[i-1, 'UL'] + 1\n",
    "        df.ix[i, 'UL'] = df.ix[i, 'LL'] + (df.ix[i, 'Count'] - 1)"
   ]
  },
  {
   "cell_type": "code",
   "execution_count": null,
   "metadata": {
    "collapsed": true
   },
   "outputs": [],
   "source": [
    "final = pd.DataFrame()"
   ]
  },
  {
   "cell_type": "code",
   "execution_count": null,
   "metadata": {
    "collapsed": true
   },
   "outputs": [],
   "source": [
    "for i in range(0,Total,100):\n",
    "    row = df[(df['LL'] <= i) & (df['UL'] >= i)]\n",
    "    row2 = row.drop(row.columns[[3,4,5,7,8]],axis=1)\n",
    "    final = final.append(row2) "
   ]
  },
  {
   "cell_type": "code",
   "execution_count": null,
   "metadata": {
    "collapsed": true
   },
   "outputs": [],
   "source": [
    "final['probability'] = final['Total'].apply(lambda x : format(x,'.8f'))"
   ]
  },
  {
   "cell_type": "code",
   "execution_count": null,
   "metadata": {
    "collapsed": true
   },
   "outputs": [],
   "source": [
    "final.to_csv(\"/home/swati/Downloads/3532.csv\")"
   ]
  },
  {
   "cell_type": "code",
   "execution_count": null,
   "metadata": {
    "collapsed": true
   },
   "outputs": [],
   "source": []
  }
 ],
 "metadata": {
  "anaconda-cloud": {},
  "kernelspec": {
   "display_name": "Python [Root]",
   "language": "python",
   "name": "Python [Root]"
  },
  "language_info": {
   "codemirror_mode": {
    "name": "ipython",
    "version": 3
   },
   "file_extension": ".py",
   "mimetype": "text/x-python",
   "name": "python",
   "nbconvert_exporter": "python",
   "pygments_lexer": "ipython3",
   "version": "3.5.2"
  }
 },
 "nbformat": 4,
 "nbformat_minor": 0
}
